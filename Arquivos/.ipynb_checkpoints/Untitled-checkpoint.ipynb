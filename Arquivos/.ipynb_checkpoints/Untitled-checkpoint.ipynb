{
 "cells": [
  {
   "cell_type": "code",
   "execution_count": 4,
   "id": "27c2d3c4-f680-45b3-837e-0b3ad3978aaa",
   "metadata": {},
   "outputs": [
    {
     "name": "stdout",
     "output_type": "stream",
     "text": [
      "\n",
      "Dom Casmurro'\n",
      "Obra de Machado de Assis\n",
      "\n",
      "I\n",
      "\n",
      "Do titulo.\n",
      "\n",
      "Uma noite destas, vindo da cidade para o Engenho Novo, encontrei no\n",
      "trem da Central um rapaz aqui do bairro, que eu conheço de vista e\n",
      "de chapéo. Comprimentou-me, sentou-se ao pé de mim, falou da lua e\n",
      "dos ministros, e acabou recitando-me versos. A viagem era curta, e os\n",
      "versos póde ser que não fossem inteiramente maus. Succedeu, porém, que\n",
      "como eu estava cançado, fechei os olhos tres ou quatro vezes; tanto\n",
      "bastou para que elle interrompesse a leitura e mettesse os versos no\n",
      "bolso.\n",
      "\n",
      "--Continue, disse eu accordando.\n",
      "\n",
      "--Já acabei, murmurou elle.\n",
      "\n",
      "--São muito bonitos.\n",
      "\n",
      "Vi-lhe fazer um gesto para tiral-os outra vez do bolso, mas não passou\n",
      "do gesto; estava amuado. No dia seguinte entrou a dizer de mim nomes\n",
      "feios, e acabou alcunhando-me _Dom Casmurro._ Os visinhos, que não\n",
      "gostam dos meus habitos reclusos e calados, deram curso á alcunha, que\n",
      "afinal pegou. Nem por isso me zanguei. Contei a anecdota aos amigos da\n",
      "cidade, e elles, por graça, chamam-me assim, alguns em bilhetes: «Dom\n",
      "Casmurro, domingo vou jantar com você.»--«Vou para Petropolis, Dom\n",
      "Casmurro; a casa é a mesma da Rhenania; vê se deixas essa caverna do\n",
      "Engenho Novo, e vae lá passar uns quinze dias commigo.»--«Meu caro Dom\n",
      "Casmurro, não cuide que o dispenso do theatro amanhã; venha e dormirá\n",
      "aqui na cidade; dou-lhe camarote, dou-lhe chá, dou-lhe cama; só não lhe\n",
      "dou moça.»\n",
      "\n",
      "Não consultes diccionarios. _Casmurro_ não está aqui no sentido que\n",
      "elles lhe dão, mas no que lhe poz o vulgo de homem calado e mettido\n",
      "comsigo. _Dom_ veiu por ironia, para attribuir-me fumos de fidalgo.\n",
      "Tudo por estar cochilando! Tambem não achei melhor titulo para a minha\n",
      "narração; se não tiver outro d'aqui até ao fim do livro, vae este\n",
      "mesmo. O meu poeta do trem ficará sabendo que não lhe guardo rancor.\n",
      "E com pequeno esforço, sendo o titulo seu, poderá cuidar que a obra\n",
      "é sua. Ha livros que apenas terão isso dos seus autores; alguns nem\n",
      "tanto.\n",
      "\n",
      "\n",
      "\n"
     ]
    }
   ],
   "source": [
    "#Importando arquivo\n",
    "\n",
    "arquivo = open('domcasmurro_cap01.txt', 'r', encoding = 'utf-8')\n",
    "texto = arquivo.read()\n",
    "print(texto)\n",
    "\n",
    "arquivo.close()"
   ]
  },
  {
   "cell_type": "code",
   "execution_count": null,
   "id": "36dfc703-fdc9-4280-b322-ad0a013f3b7b",
   "metadata": {},
   "outputs": [
    {
     "name": "stdout",
     "output_type": "stream",
     "text": [
      "\n",
      "Dom Casmurro'\n",
      "Obra de Machado de Assis\n",
      "\n",
      "I\n",
      "\n",
      "Do titulo.\n",
      "\n",
      "Uma noite destas, vindo da cidade para o Engenho Novo, encontrei no\n",
      "trem da Central um rapaz aqui do bairro, que eu conheço de vista e\n",
      "de chapéo. Comprimentou-me, sentou-se ao pé de mim, falou da lua e\n",
      "dos ministros, e acabou recitando-me versos. A viagem era curta, e os\n",
      "versos póde ser que não fossem inteiramente maus. Succedeu, porém, que\n",
      "como eu estava cançado, fechei os olhos tres ou quatro vezes; tanto\n",
      "bastou para que elle interrompesse a leitura e mettesse os versos no\n",
      "bolso.\n",
      "\n",
      "--Continue, disse eu accordando.\n",
      "\n",
      "--Já acabei, murmurou elle.\n",
      "\n",
      "--São muito bonitos.\n",
      "\n",
      "Vi-lhe fazer um gesto para tiral-os outra vez do bolso, mas não passou\n",
      "do gesto; estava amuado. No dia seguinte entrou a dizer de mim nomes\n",
      "feios, e acabou alcunhando-me _Dom Casmurro._ Os visinhos, que não\n",
      "gostam dos meus habitos reclusos e calados, deram curso á alcunha, que\n",
      "afinal pegou. Nem por isso me zanguei. Contei a anecdota aos amigos da\n",
      "cidade, e elles, por graça, chamam-me assim, alguns em bilhetes: «Dom\n",
      "Casmurro, domingo vou jantar com você.»--«Vou para Petropolis, Dom\n",
      "Casmurro; a casa é a mesma da Rhenania; vê se deixas essa caverna do\n",
      "Engenho Novo, e vae lá passar uns quinze dias commigo.»--«Meu caro Dom\n",
      "Casmurro, não cuide que o dispenso do theatro amanhã; venha e dormirá\n",
      "aqui na cidade; dou-lhe camarote, dou-lhe chá, dou-lhe cama; só não lhe\n",
      "dou moça.»\n",
      "\n",
      "Não consultes diccionarios. _Casmurro_ não está aqui no sentido que\n",
      "elles lhe dão, mas no que lhe poz o vulgo de homem calado e mettido\n",
      "comsigo. _Dom_ veiu por ironia, para attribuir-me fumos de fidalgo.\n",
      "Tudo por estar cochilando! Tambem não achei melhor titulo para a minha\n",
      "narração; se não tiver outro d'aqui até ao fim do livro, vae este\n",
      "mesmo. O meu poeta do trem ficará sabendo que não lhe guardo rancor.\n",
      "E com pequeno esforço, sendo o titulo seu, poderá cuidar que a obra\n",
      "é sua. Ha livros que apenas terão isso dos seus autores; alguns nem\n",
      "tanto.\n",
      "\n",
      "\n"
     ]
    }
   ],
   "source": [
    "#Outra forma de leitura do arquivo\n",
    "\n",
    "arquivo = open('domcasmurro_cap01.txt', 'r', encoding = 'utf-8')\n",
    "linha = arquivo.readline()\n",
    "while linha != \" \":\n",
    "    \n",
    "    print(linha, end='')\n",
    "    linha = arquivo.readline()\n",
    "arquivo.close"
   ]
  },
  {
   "cell_type": "code",
   "execution_count": null,
   "id": "719dc6cf-b399-4706-8662-e5d97a4a395b",
   "metadata": {},
   "outputs": [],
   "source": [
    "#Utilização do with para abertura do texto\n",
    "\n",
    "with open('domcasmurro_cap01.txt', 'r', encoding = 'utf-8') as arquivo:\n",
    "    texto = arquivo.read\n",
    "    print(texto)"
   ]
  }
 ],
 "metadata": {
  "kernelspec": {
   "display_name": "Python 3",
   "language": "python",
   "name": "python3"
  },
  "language_info": {
   "codemirror_mode": {
    "name": "ipython",
    "version": 3
   },
   "file_extension": ".py",
   "mimetype": "text/x-python",
   "name": "python",
   "nbconvert_exporter": "python",
   "pygments_lexer": "ipython3",
   "version": "3.8.8"
  }
 },
 "nbformat": 4,
 "nbformat_minor": 5
}
